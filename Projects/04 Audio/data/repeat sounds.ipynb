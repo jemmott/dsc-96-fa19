{
 "cells": [
  {
   "cell_type": "markdown",
   "metadata": {},
   "source": [
    "Colin Jemmott for UCSD\n",
    "November 12, 2019\n",
    "\n",
    "I am having some issues with short sound files causing internal server errors with the IBM MAX audio classifier.  I could track it down, but instead I can just make the sounds longer!"
   ]
  },
  {
   "cell_type": "code",
   "execution_count": 4,
   "metadata": {},
   "outputs": [],
   "source": [
    "import os\n",
    "from scipy.io.wavfile import read, write\n",
    "import numpy as np\n",
    "\n",
    "fileList = os.listdir('effects')\n",
    "\n",
    "for fName in fileList:\n",
    "    a = read(\"effects/\" + fName)\n",
    "    samplingRate = a[0]\n",
    "    audioData = a[1]\n",
    "\n",
    "    # need to loop to make longer than 10 seconds\n",
    "    repeatCount = int(np.ceil(10/(len(audioData)/samplingRate)))\n",
    "\n",
    "    audioData = np.repeat(audioData, repeatCount)\n",
    "\n",
    "    write(fName, samplingRate, np.int16(audioData))"
   ]
  },
  {
   "cell_type": "code",
   "execution_count": 3,
   "metadata": {},
   "outputs": [
    {
     "data": {
      "text/plain": [
       "'hair_dryer.wav'"
      ]
     },
     "execution_count": 3,
     "metadata": {},
     "output_type": "execute_result"
    }
   ],
   "source": [
    "fName"
   ]
  },
  {
   "cell_type": "code",
   "execution_count": null,
   "metadata": {},
   "outputs": [],
   "source": []
  }
 ],
 "metadata": {
  "kernelspec": {
   "display_name": "Python 3",
   "language": "python",
   "name": "python3"
  },
  "language_info": {
   "codemirror_mode": {
    "name": "ipython",
    "version": 3
   },
   "file_extension": ".py",
   "mimetype": "text/x-python",
   "name": "python",
   "nbconvert_exporter": "python",
   "pygments_lexer": "ipython3",
   "version": "3.7.3"
  }
 },
 "nbformat": 4,
 "nbformat_minor": 2
}
